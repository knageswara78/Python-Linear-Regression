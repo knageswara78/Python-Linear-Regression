{
 "cells": [
  {
   "cell_type": "markdown",
   "metadata": {},
   "source": [
    "# House Price Prediction ( Linear Regression)"
   ]
  },
  {
   "cell_type": "markdown",
   "metadata": {},
   "source": [
    "## Shortcuts"
   ]
  },
  {
   "cell_type": "markdown",
   "metadata": {},
   "source": [
    "### Run the current cell and select below"
   ]
  },
  {
   "cell_type": "raw",
   "metadata": {},
   "source": [
    "# Shift + Enter "
   ]
  },
  {
   "cell_type": "markdown",
   "metadata": {},
   "source": [
    "### Save and checkpoint"
   ]
  },
  {
   "cell_type": "raw",
   "metadata": {},
   "source": [
    "# Ctrl + S"
   ]
  },
  {
   "cell_type": "markdown",
   "metadata": {},
   "source": [
    "### Create a cell above"
   ]
  },
  {
   "cell_type": "code",
   "execution_count": null,
   "metadata": {},
   "outputs": [],
   "source": []
  },
  {
   "cell_type": "raw",
   "metadata": {},
   "source": [
    "# Esc,Shift,a"
   ]
  },
  {
   "cell_type": "markdown",
   "metadata": {},
   "source": [
    "### Delete cell"
   ]
  },
  {
   "cell_type": "code",
   "execution_count": null,
   "metadata": {},
   "outputs": [],
   "source": [
    "# Esc, dd"
   ]
  },
  {
   "cell_type": "markdown",
   "metadata": {},
   "source": [
    "\n"
   ]
  },
  {
   "cell_type": "markdown",
   "metadata": {},
   "source": [
    "### Run all freshly"
   ]
  },
  {
   "cell_type": "code",
   "execution_count": null,
   "metadata": {},
   "outputs": [],
   "source": [
    "# Kernel -> Restart & Run All"
   ]
  },
  {
   "cell_type": "markdown",
   "metadata": {},
   "source": [
    "## Import Libraries"
   ]
  },
  {
   "cell_type": "code",
   "execution_count": 1,
   "metadata": {},
   "outputs": [
    {
     "name": "stderr",
     "output_type": "stream",
     "text": [
      "C:\\Users\\sunitha G\\Anaconda3\\lib\\site-packages\\numpy\\_distributor_init.py:32: UserWarning: loaded more than 1 DLL from .libs:\n",
      "C:\\Users\\sunitha G\\Anaconda3\\lib\\site-packages\\numpy\\.libs\\libopenblas.IPBC74C7KURV7CB2PKT5Z5FNR3SIBV4J.gfortran-win_amd64.dll\n",
      "C:\\Users\\sunitha G\\Anaconda3\\lib\\site-packages\\numpy\\.libs\\libopenblas.PYQHXLVVQ7VESDPUVUADXEVJOBGHJPAY.gfortran-win_amd64.dll\n",
      "  stacklevel=1)\n"
     ]
    }
   ],
   "source": [
    "# Importing libraries\n",
    "import pandas"
   ]
  },
  {
   "cell_type": "markdown",
   "metadata": {},
   "source": [
    "## Read File"
   ]
  },
  {
   "cell_type": "code",
   "execution_count": 2,
   "metadata": {},
   "outputs": [
    {
     "data": {
      "text/html": [
       "<div>\n",
       "<style scoped>\n",
       "    .dataframe tbody tr th:only-of-type {\n",
       "        vertical-align: middle;\n",
       "    }\n",
       "\n",
       "    .dataframe tbody tr th {\n",
       "        vertical-align: top;\n",
       "    }\n",
       "\n",
       "    .dataframe thead th {\n",
       "        text-align: right;\n",
       "    }\n",
       "</style>\n",
       "<table border=\"1\" class=\"dataframe\">\n",
       "  <thead>\n",
       "    <tr style=\"text-align: right;\">\n",
       "      <th></th>\n",
       "      <th>Avg. Area Income</th>\n",
       "      <th>Avg. Area House Age</th>\n",
       "      <th>Avg. Area Number of Rooms</th>\n",
       "      <th>Avg. Area Number of Bedrooms</th>\n",
       "      <th>Area Population</th>\n",
       "      <th>Price</th>\n",
       "      <th>Address</th>\n",
       "    </tr>\n",
       "  </thead>\n",
       "  <tbody>\n",
       "    <tr>\n",
       "      <th>0</th>\n",
       "      <td>79545.458574</td>\n",
       "      <td>5.682861</td>\n",
       "      <td>7.009188</td>\n",
       "      <td>4.09</td>\n",
       "      <td>23086.800503</td>\n",
       "      <td>1.059034e+06</td>\n",
       "      <td>208 Michael Ferry Apt. 674\\nLaurabury, NE 3701...</td>\n",
       "    </tr>\n",
       "    <tr>\n",
       "      <th>1</th>\n",
       "      <td>79248.642455</td>\n",
       "      <td>6.002900</td>\n",
       "      <td>6.730821</td>\n",
       "      <td>3.09</td>\n",
       "      <td>40173.072174</td>\n",
       "      <td>1.505891e+06</td>\n",
       "      <td>188 Johnson Views Suite 079\\nLake Kathleen, CA...</td>\n",
       "    </tr>\n",
       "    <tr>\n",
       "      <th>2</th>\n",
       "      <td>61287.067179</td>\n",
       "      <td>5.865890</td>\n",
       "      <td>8.512727</td>\n",
       "      <td>5.13</td>\n",
       "      <td>36882.159400</td>\n",
       "      <td>1.058988e+06</td>\n",
       "      <td>9127 Elizabeth Stravenue\\nDanieltown, WI 06482...</td>\n",
       "    </tr>\n",
       "    <tr>\n",
       "      <th>3</th>\n",
       "      <td>63345.240046</td>\n",
       "      <td>7.188236</td>\n",
       "      <td>5.586729</td>\n",
       "      <td>3.26</td>\n",
       "      <td>34310.242831</td>\n",
       "      <td>1.260617e+06</td>\n",
       "      <td>USS Barnett\\nFPO AP 44820</td>\n",
       "    </tr>\n",
       "    <tr>\n",
       "      <th>4</th>\n",
       "      <td>59982.197226</td>\n",
       "      <td>5.040555</td>\n",
       "      <td>7.839388</td>\n",
       "      <td>4.23</td>\n",
       "      <td>26354.109472</td>\n",
       "      <td>6.309435e+05</td>\n",
       "      <td>USNS Raymond\\nFPO AE 09386</td>\n",
       "    </tr>\n",
       "    <tr>\n",
       "      <th>...</th>\n",
       "      <td>...</td>\n",
       "      <td>...</td>\n",
       "      <td>...</td>\n",
       "      <td>...</td>\n",
       "      <td>...</td>\n",
       "      <td>...</td>\n",
       "      <td>...</td>\n",
       "    </tr>\n",
       "    <tr>\n",
       "      <th>4995</th>\n",
       "      <td>60567.944140</td>\n",
       "      <td>7.830362</td>\n",
       "      <td>6.137356</td>\n",
       "      <td>3.46</td>\n",
       "      <td>22837.361035</td>\n",
       "      <td>1.060194e+06</td>\n",
       "      <td>USNS Williams\\nFPO AP 30153-7653</td>\n",
       "    </tr>\n",
       "    <tr>\n",
       "      <th>4996</th>\n",
       "      <td>78491.275435</td>\n",
       "      <td>6.999135</td>\n",
       "      <td>6.576763</td>\n",
       "      <td>4.02</td>\n",
       "      <td>25616.115489</td>\n",
       "      <td>1.482618e+06</td>\n",
       "      <td>PSC 9258, Box 8489\\nAPO AA 42991-3352</td>\n",
       "    </tr>\n",
       "    <tr>\n",
       "      <th>4997</th>\n",
       "      <td>63390.686886</td>\n",
       "      <td>7.250591</td>\n",
       "      <td>4.805081</td>\n",
       "      <td>2.13</td>\n",
       "      <td>33266.145490</td>\n",
       "      <td>1.030730e+06</td>\n",
       "      <td>4215 Tracy Garden Suite 076\\nJoshualand, VA 01...</td>\n",
       "    </tr>\n",
       "    <tr>\n",
       "      <th>4998</th>\n",
       "      <td>68001.331235</td>\n",
       "      <td>5.534388</td>\n",
       "      <td>7.130144</td>\n",
       "      <td>5.44</td>\n",
       "      <td>42625.620156</td>\n",
       "      <td>1.198657e+06</td>\n",
       "      <td>USS Wallace\\nFPO AE 73316</td>\n",
       "    </tr>\n",
       "    <tr>\n",
       "      <th>4999</th>\n",
       "      <td>65510.581804</td>\n",
       "      <td>5.992305</td>\n",
       "      <td>6.792336</td>\n",
       "      <td>4.07</td>\n",
       "      <td>46501.283803</td>\n",
       "      <td>1.298950e+06</td>\n",
       "      <td>37778 George Ridges Apt. 509\\nEast Holly, NV 2...</td>\n",
       "    </tr>\n",
       "  </tbody>\n",
       "</table>\n",
       "<p>5000 rows × 7 columns</p>\n",
       "</div>"
      ],
      "text/plain": [
       "      Avg. Area Income  Avg. Area House Age  Avg. Area Number of Rooms  \\\n",
       "0         79545.458574             5.682861                   7.009188   \n",
       "1         79248.642455             6.002900                   6.730821   \n",
       "2         61287.067179             5.865890                   8.512727   \n",
       "3         63345.240046             7.188236                   5.586729   \n",
       "4         59982.197226             5.040555                   7.839388   \n",
       "...                ...                  ...                        ...   \n",
       "4995      60567.944140             7.830362                   6.137356   \n",
       "4996      78491.275435             6.999135                   6.576763   \n",
       "4997      63390.686886             7.250591                   4.805081   \n",
       "4998      68001.331235             5.534388                   7.130144   \n",
       "4999      65510.581804             5.992305                   6.792336   \n",
       "\n",
       "      Avg. Area Number of Bedrooms  Area Population         Price  \\\n",
       "0                             4.09     23086.800503  1.059034e+06   \n",
       "1                             3.09     40173.072174  1.505891e+06   \n",
       "2                             5.13     36882.159400  1.058988e+06   \n",
       "3                             3.26     34310.242831  1.260617e+06   \n",
       "4                             4.23     26354.109472  6.309435e+05   \n",
       "...                            ...              ...           ...   \n",
       "4995                          3.46     22837.361035  1.060194e+06   \n",
       "4996                          4.02     25616.115489  1.482618e+06   \n",
       "4997                          2.13     33266.145490  1.030730e+06   \n",
       "4998                          5.44     42625.620156  1.198657e+06   \n",
       "4999                          4.07     46501.283803  1.298950e+06   \n",
       "\n",
       "                                                Address  \n",
       "0     208 Michael Ferry Apt. 674\\nLaurabury, NE 3701...  \n",
       "1     188 Johnson Views Suite 079\\nLake Kathleen, CA...  \n",
       "2     9127 Elizabeth Stravenue\\nDanieltown, WI 06482...  \n",
       "3                             USS Barnett\\nFPO AP 44820  \n",
       "4                            USNS Raymond\\nFPO AE 09386  \n",
       "...                                                 ...  \n",
       "4995                   USNS Williams\\nFPO AP 30153-7653  \n",
       "4996              PSC 9258, Box 8489\\nAPO AA 42991-3352  \n",
       "4997  4215 Tracy Garden Suite 076\\nJoshualand, VA 01...  \n",
       "4998                          USS Wallace\\nFPO AE 73316  \n",
       "4999  37778 George Ridges Apt. 509\\nEast Holly, NV 2...  \n",
       "\n",
       "[5000 rows x 7 columns]"
      ]
     },
     "execution_count": 2,
     "metadata": {},
     "output_type": "execute_result"
    }
   ],
   "source": [
    "# Read a file\n",
    "pandas.read_csv('USA_Housing.csv')"
   ]
  },
  {
   "cell_type": "markdown",
   "metadata": {},
   "source": [
    "## Store File after reading"
   ]
  },
  {
   "cell_type": "code",
   "execution_count": 3,
   "metadata": {},
   "outputs": [
    {
     "data": {
      "text/html": [
       "<div>\n",
       "<style scoped>\n",
       "    .dataframe tbody tr th:only-of-type {\n",
       "        vertical-align: middle;\n",
       "    }\n",
       "\n",
       "    .dataframe tbody tr th {\n",
       "        vertical-align: top;\n",
       "    }\n",
       "\n",
       "    .dataframe thead th {\n",
       "        text-align: right;\n",
       "    }\n",
       "</style>\n",
       "<table border=\"1\" class=\"dataframe\">\n",
       "  <thead>\n",
       "    <tr style=\"text-align: right;\">\n",
       "      <th></th>\n",
       "      <th>Avg. Area Income</th>\n",
       "      <th>Avg. Area House Age</th>\n",
       "      <th>Avg. Area Number of Rooms</th>\n",
       "      <th>Avg. Area Number of Bedrooms</th>\n",
       "      <th>Area Population</th>\n",
       "      <th>Price</th>\n",
       "      <th>Address</th>\n",
       "    </tr>\n",
       "  </thead>\n",
       "  <tbody>\n",
       "    <tr>\n",
       "      <th>0</th>\n",
       "      <td>79545.458574</td>\n",
       "      <td>5.682861</td>\n",
       "      <td>7.009188</td>\n",
       "      <td>4.09</td>\n",
       "      <td>23086.800503</td>\n",
       "      <td>1.059034e+06</td>\n",
       "      <td>208 Michael Ferry Apt. 674\\nLaurabury, NE 3701...</td>\n",
       "    </tr>\n",
       "    <tr>\n",
       "      <th>1</th>\n",
       "      <td>79248.642455</td>\n",
       "      <td>6.002900</td>\n",
       "      <td>6.730821</td>\n",
       "      <td>3.09</td>\n",
       "      <td>40173.072174</td>\n",
       "      <td>1.505891e+06</td>\n",
       "      <td>188 Johnson Views Suite 079\\nLake Kathleen, CA...</td>\n",
       "    </tr>\n",
       "    <tr>\n",
       "      <th>2</th>\n",
       "      <td>61287.067179</td>\n",
       "      <td>5.865890</td>\n",
       "      <td>8.512727</td>\n",
       "      <td>5.13</td>\n",
       "      <td>36882.159400</td>\n",
       "      <td>1.058988e+06</td>\n",
       "      <td>9127 Elizabeth Stravenue\\nDanieltown, WI 06482...</td>\n",
       "    </tr>\n",
       "    <tr>\n",
       "      <th>3</th>\n",
       "      <td>63345.240046</td>\n",
       "      <td>7.188236</td>\n",
       "      <td>5.586729</td>\n",
       "      <td>3.26</td>\n",
       "      <td>34310.242831</td>\n",
       "      <td>1.260617e+06</td>\n",
       "      <td>USS Barnett\\nFPO AP 44820</td>\n",
       "    </tr>\n",
       "    <tr>\n",
       "      <th>4</th>\n",
       "      <td>59982.197226</td>\n",
       "      <td>5.040555</td>\n",
       "      <td>7.839388</td>\n",
       "      <td>4.23</td>\n",
       "      <td>26354.109472</td>\n",
       "      <td>6.309435e+05</td>\n",
       "      <td>USNS Raymond\\nFPO AE 09386</td>\n",
       "    </tr>\n",
       "    <tr>\n",
       "      <th>...</th>\n",
       "      <td>...</td>\n",
       "      <td>...</td>\n",
       "      <td>...</td>\n",
       "      <td>...</td>\n",
       "      <td>...</td>\n",
       "      <td>...</td>\n",
       "      <td>...</td>\n",
       "    </tr>\n",
       "    <tr>\n",
       "      <th>4995</th>\n",
       "      <td>60567.944140</td>\n",
       "      <td>7.830362</td>\n",
       "      <td>6.137356</td>\n",
       "      <td>3.46</td>\n",
       "      <td>22837.361035</td>\n",
       "      <td>1.060194e+06</td>\n",
       "      <td>USNS Williams\\nFPO AP 30153-7653</td>\n",
       "    </tr>\n",
       "    <tr>\n",
       "      <th>4996</th>\n",
       "      <td>78491.275435</td>\n",
       "      <td>6.999135</td>\n",
       "      <td>6.576763</td>\n",
       "      <td>4.02</td>\n",
       "      <td>25616.115489</td>\n",
       "      <td>1.482618e+06</td>\n",
       "      <td>PSC 9258, Box 8489\\nAPO AA 42991-3352</td>\n",
       "    </tr>\n",
       "    <tr>\n",
       "      <th>4997</th>\n",
       "      <td>63390.686886</td>\n",
       "      <td>7.250591</td>\n",
       "      <td>4.805081</td>\n",
       "      <td>2.13</td>\n",
       "      <td>33266.145490</td>\n",
       "      <td>1.030730e+06</td>\n",
       "      <td>4215 Tracy Garden Suite 076\\nJoshualand, VA 01...</td>\n",
       "    </tr>\n",
       "    <tr>\n",
       "      <th>4998</th>\n",
       "      <td>68001.331235</td>\n",
       "      <td>5.534388</td>\n",
       "      <td>7.130144</td>\n",
       "      <td>5.44</td>\n",
       "      <td>42625.620156</td>\n",
       "      <td>1.198657e+06</td>\n",
       "      <td>USS Wallace\\nFPO AE 73316</td>\n",
       "    </tr>\n",
       "    <tr>\n",
       "      <th>4999</th>\n",
       "      <td>65510.581804</td>\n",
       "      <td>5.992305</td>\n",
       "      <td>6.792336</td>\n",
       "      <td>4.07</td>\n",
       "      <td>46501.283803</td>\n",
       "      <td>1.298950e+06</td>\n",
       "      <td>37778 George Ridges Apt. 509\\nEast Holly, NV 2...</td>\n",
       "    </tr>\n",
       "  </tbody>\n",
       "</table>\n",
       "<p>5000 rows × 7 columns</p>\n",
       "</div>"
      ],
      "text/plain": [
       "      Avg. Area Income  Avg. Area House Age  Avg. Area Number of Rooms  \\\n",
       "0         79545.458574             5.682861                   7.009188   \n",
       "1         79248.642455             6.002900                   6.730821   \n",
       "2         61287.067179             5.865890                   8.512727   \n",
       "3         63345.240046             7.188236                   5.586729   \n",
       "4         59982.197226             5.040555                   7.839388   \n",
       "...                ...                  ...                        ...   \n",
       "4995      60567.944140             7.830362                   6.137356   \n",
       "4996      78491.275435             6.999135                   6.576763   \n",
       "4997      63390.686886             7.250591                   4.805081   \n",
       "4998      68001.331235             5.534388                   7.130144   \n",
       "4999      65510.581804             5.992305                   6.792336   \n",
       "\n",
       "      Avg. Area Number of Bedrooms  Area Population         Price  \\\n",
       "0                             4.09     23086.800503  1.059034e+06   \n",
       "1                             3.09     40173.072174  1.505891e+06   \n",
       "2                             5.13     36882.159400  1.058988e+06   \n",
       "3                             3.26     34310.242831  1.260617e+06   \n",
       "4                             4.23     26354.109472  6.309435e+05   \n",
       "...                            ...              ...           ...   \n",
       "4995                          3.46     22837.361035  1.060194e+06   \n",
       "4996                          4.02     25616.115489  1.482618e+06   \n",
       "4997                          2.13     33266.145490  1.030730e+06   \n",
       "4998                          5.44     42625.620156  1.198657e+06   \n",
       "4999                          4.07     46501.283803  1.298950e+06   \n",
       "\n",
       "                                                Address  \n",
       "0     208 Michael Ferry Apt. 674\\nLaurabury, NE 3701...  \n",
       "1     188 Johnson Views Suite 079\\nLake Kathleen, CA...  \n",
       "2     9127 Elizabeth Stravenue\\nDanieltown, WI 06482...  \n",
       "3                             USS Barnett\\nFPO AP 44820  \n",
       "4                            USNS Raymond\\nFPO AE 09386  \n",
       "...                                                 ...  \n",
       "4995                   USNS Williams\\nFPO AP 30153-7653  \n",
       "4996              PSC 9258, Box 8489\\nAPO AA 42991-3352  \n",
       "4997  4215 Tracy Garden Suite 076\\nJoshualand, VA 01...  \n",
       "4998                          USS Wallace\\nFPO AE 73316  \n",
       "4999  37778 George Ridges Apt. 509\\nEast Holly, NV 2...  \n",
       "\n",
       "[5000 rows x 7 columns]"
      ]
     },
     "execution_count": 3,
     "metadata": {},
     "output_type": "execute_result"
    }
   ],
   "source": [
    "pandas.read_csv('USA_Housing.csv')"
   ]
  },
  {
   "cell_type": "code",
   "execution_count": 4,
   "metadata": {},
   "outputs": [],
   "source": [
    "df = pandas.read_csv('USA_Housing.csv')"
   ]
  },
  {
   "cell_type": "markdown",
   "metadata": {},
   "source": [
    "## Display first 5 rows"
   ]
  },
  {
   "cell_type": "code",
   "execution_count": 5,
   "metadata": {},
   "outputs": [
    {
     "data": {
      "text/html": [
       "<div>\n",
       "<style scoped>\n",
       "    .dataframe tbody tr th:only-of-type {\n",
       "        vertical-align: middle;\n",
       "    }\n",
       "\n",
       "    .dataframe tbody tr th {\n",
       "        vertical-align: top;\n",
       "    }\n",
       "\n",
       "    .dataframe thead th {\n",
       "        text-align: right;\n",
       "    }\n",
       "</style>\n",
       "<table border=\"1\" class=\"dataframe\">\n",
       "  <thead>\n",
       "    <tr style=\"text-align: right;\">\n",
       "      <th></th>\n",
       "      <th>Avg. Area Income</th>\n",
       "      <th>Avg. Area House Age</th>\n",
       "      <th>Avg. Area Number of Rooms</th>\n",
       "      <th>Avg. Area Number of Bedrooms</th>\n",
       "      <th>Area Population</th>\n",
       "      <th>Price</th>\n",
       "      <th>Address</th>\n",
       "    </tr>\n",
       "  </thead>\n",
       "  <tbody>\n",
       "    <tr>\n",
       "      <th>0</th>\n",
       "      <td>79545.458574</td>\n",
       "      <td>5.682861</td>\n",
       "      <td>7.009188</td>\n",
       "      <td>4.09</td>\n",
       "      <td>23086.800503</td>\n",
       "      <td>1.059034e+06</td>\n",
       "      <td>208 Michael Ferry Apt. 674\\nLaurabury, NE 3701...</td>\n",
       "    </tr>\n",
       "    <tr>\n",
       "      <th>1</th>\n",
       "      <td>79248.642455</td>\n",
       "      <td>6.002900</td>\n",
       "      <td>6.730821</td>\n",
       "      <td>3.09</td>\n",
       "      <td>40173.072174</td>\n",
       "      <td>1.505891e+06</td>\n",
       "      <td>188 Johnson Views Suite 079\\nLake Kathleen, CA...</td>\n",
       "    </tr>\n",
       "    <tr>\n",
       "      <th>2</th>\n",
       "      <td>61287.067179</td>\n",
       "      <td>5.865890</td>\n",
       "      <td>8.512727</td>\n",
       "      <td>5.13</td>\n",
       "      <td>36882.159400</td>\n",
       "      <td>1.058988e+06</td>\n",
       "      <td>9127 Elizabeth Stravenue\\nDanieltown, WI 06482...</td>\n",
       "    </tr>\n",
       "    <tr>\n",
       "      <th>3</th>\n",
       "      <td>63345.240046</td>\n",
       "      <td>7.188236</td>\n",
       "      <td>5.586729</td>\n",
       "      <td>3.26</td>\n",
       "      <td>34310.242831</td>\n",
       "      <td>1.260617e+06</td>\n",
       "      <td>USS Barnett\\nFPO AP 44820</td>\n",
       "    </tr>\n",
       "    <tr>\n",
       "      <th>4</th>\n",
       "      <td>59982.197226</td>\n",
       "      <td>5.040555</td>\n",
       "      <td>7.839388</td>\n",
       "      <td>4.23</td>\n",
       "      <td>26354.109472</td>\n",
       "      <td>6.309435e+05</td>\n",
       "      <td>USNS Raymond\\nFPO AE 09386</td>\n",
       "    </tr>\n",
       "  </tbody>\n",
       "</table>\n",
       "</div>"
      ],
      "text/plain": [
       "   Avg. Area Income  Avg. Area House Age  Avg. Area Number of Rooms  \\\n",
       "0      79545.458574             5.682861                   7.009188   \n",
       "1      79248.642455             6.002900                   6.730821   \n",
       "2      61287.067179             5.865890                   8.512727   \n",
       "3      63345.240046             7.188236                   5.586729   \n",
       "4      59982.197226             5.040555                   7.839388   \n",
       "\n",
       "   Avg. Area Number of Bedrooms  Area Population         Price  \\\n",
       "0                          4.09     23086.800503  1.059034e+06   \n",
       "1                          3.09     40173.072174  1.505891e+06   \n",
       "2                          5.13     36882.159400  1.058988e+06   \n",
       "3                          3.26     34310.242831  1.260617e+06   \n",
       "4                          4.23     26354.109472  6.309435e+05   \n",
       "\n",
       "                                             Address  \n",
       "0  208 Michael Ferry Apt. 674\\nLaurabury, NE 3701...  \n",
       "1  188 Johnson Views Suite 079\\nLake Kathleen, CA...  \n",
       "2  9127 Elizabeth Stravenue\\nDanieltown, WI 06482...  \n",
       "3                          USS Barnett\\nFPO AP 44820  \n",
       "4                         USNS Raymond\\nFPO AE 09386  "
      ]
     },
     "execution_count": 5,
     "metadata": {},
     "output_type": "execute_result"
    }
   ],
   "source": [
    "df.head(5)"
   ]
  },
  {
   "cell_type": "code",
   "execution_count": 6,
   "metadata": {},
   "outputs": [
    {
     "data": {
      "text/html": [
       "<div>\n",
       "<style scoped>\n",
       "    .dataframe tbody tr th:only-of-type {\n",
       "        vertical-align: middle;\n",
       "    }\n",
       "\n",
       "    .dataframe tbody tr th {\n",
       "        vertical-align: top;\n",
       "    }\n",
       "\n",
       "    .dataframe thead th {\n",
       "        text-align: right;\n",
       "    }\n",
       "</style>\n",
       "<table border=\"1\" class=\"dataframe\">\n",
       "  <thead>\n",
       "    <tr style=\"text-align: right;\">\n",
       "      <th></th>\n",
       "      <th>Avg. Area Income</th>\n",
       "      <th>Avg. Area House Age</th>\n",
       "      <th>Avg. Area Number of Rooms</th>\n",
       "      <th>Avg. Area Number of Bedrooms</th>\n",
       "      <th>Area Population</th>\n",
       "      <th>Price</th>\n",
       "      <th>Address</th>\n",
       "    </tr>\n",
       "  </thead>\n",
       "  <tbody>\n",
       "    <tr>\n",
       "      <th>4995</th>\n",
       "      <td>60567.944140</td>\n",
       "      <td>7.830362</td>\n",
       "      <td>6.137356</td>\n",
       "      <td>3.46</td>\n",
       "      <td>22837.361035</td>\n",
       "      <td>1.060194e+06</td>\n",
       "      <td>USNS Williams\\nFPO AP 30153-7653</td>\n",
       "    </tr>\n",
       "    <tr>\n",
       "      <th>4996</th>\n",
       "      <td>78491.275435</td>\n",
       "      <td>6.999135</td>\n",
       "      <td>6.576763</td>\n",
       "      <td>4.02</td>\n",
       "      <td>25616.115489</td>\n",
       "      <td>1.482618e+06</td>\n",
       "      <td>PSC 9258, Box 8489\\nAPO AA 42991-3352</td>\n",
       "    </tr>\n",
       "    <tr>\n",
       "      <th>4997</th>\n",
       "      <td>63390.686886</td>\n",
       "      <td>7.250591</td>\n",
       "      <td>4.805081</td>\n",
       "      <td>2.13</td>\n",
       "      <td>33266.145490</td>\n",
       "      <td>1.030730e+06</td>\n",
       "      <td>4215 Tracy Garden Suite 076\\nJoshualand, VA 01...</td>\n",
       "    </tr>\n",
       "    <tr>\n",
       "      <th>4998</th>\n",
       "      <td>68001.331235</td>\n",
       "      <td>5.534388</td>\n",
       "      <td>7.130144</td>\n",
       "      <td>5.44</td>\n",
       "      <td>42625.620156</td>\n",
       "      <td>1.198657e+06</td>\n",
       "      <td>USS Wallace\\nFPO AE 73316</td>\n",
       "    </tr>\n",
       "    <tr>\n",
       "      <th>4999</th>\n",
       "      <td>65510.581804</td>\n",
       "      <td>5.992305</td>\n",
       "      <td>6.792336</td>\n",
       "      <td>4.07</td>\n",
       "      <td>46501.283803</td>\n",
       "      <td>1.298950e+06</td>\n",
       "      <td>37778 George Ridges Apt. 509\\nEast Holly, NV 2...</td>\n",
       "    </tr>\n",
       "  </tbody>\n",
       "</table>\n",
       "</div>"
      ],
      "text/plain": [
       "      Avg. Area Income  Avg. Area House Age  Avg. Area Number of Rooms  \\\n",
       "4995      60567.944140             7.830362                   6.137356   \n",
       "4996      78491.275435             6.999135                   6.576763   \n",
       "4997      63390.686886             7.250591                   4.805081   \n",
       "4998      68001.331235             5.534388                   7.130144   \n",
       "4999      65510.581804             5.992305                   6.792336   \n",
       "\n",
       "      Avg. Area Number of Bedrooms  Area Population         Price  \\\n",
       "4995                          3.46     22837.361035  1.060194e+06   \n",
       "4996                          4.02     25616.115489  1.482618e+06   \n",
       "4997                          2.13     33266.145490  1.030730e+06   \n",
       "4998                          5.44     42625.620156  1.198657e+06   \n",
       "4999                          4.07     46501.283803  1.298950e+06   \n",
       "\n",
       "                                                Address  \n",
       "4995                   USNS Williams\\nFPO AP 30153-7653  \n",
       "4996              PSC 9258, Box 8489\\nAPO AA 42991-3352  \n",
       "4997  4215 Tracy Garden Suite 076\\nJoshualand, VA 01...  \n",
       "4998                          USS Wallace\\nFPO AE 73316  \n",
       "4999  37778 George Ridges Apt. 509\\nEast Holly, NV 2...  "
      ]
     },
     "execution_count": 6,
     "metadata": {},
     "output_type": "execute_result"
    }
   ],
   "source": [
    "df.tail()"
   ]
  },
  {
   "cell_type": "markdown",
   "metadata": {},
   "source": [
    "## Get no.of rows and columns"
   ]
  },
  {
   "cell_type": "code",
   "execution_count": 7,
   "metadata": {},
   "outputs": [
    {
     "data": {
      "text/plain": [
       "(5000, 7)"
      ]
     },
     "execution_count": 7,
     "metadata": {},
     "output_type": "execute_result"
    }
   ],
   "source": [
    "df.shape"
   ]
  },
  {
   "cell_type": "markdown",
   "metadata": {},
   "source": [
    "## See data type of each variable"
   ]
  },
  {
   "cell_type": "code",
   "execution_count": 8,
   "metadata": {},
   "outputs": [
    {
     "data": {
      "text/plain": [
       "<bound method DataFrame.info of       Avg. Area Income  Avg. Area House Age  Avg. Area Number of Rooms  \\\n",
       "0         79545.458574             5.682861                   7.009188   \n",
       "1         79248.642455             6.002900                   6.730821   \n",
       "2         61287.067179             5.865890                   8.512727   \n",
       "3         63345.240046             7.188236                   5.586729   \n",
       "4         59982.197226             5.040555                   7.839388   \n",
       "...                ...                  ...                        ...   \n",
       "4995      60567.944140             7.830362                   6.137356   \n",
       "4996      78491.275435             6.999135                   6.576763   \n",
       "4997      63390.686886             7.250591                   4.805081   \n",
       "4998      68001.331235             5.534388                   7.130144   \n",
       "4999      65510.581804             5.992305                   6.792336   \n",
       "\n",
       "      Avg. Area Number of Bedrooms  Area Population         Price  \\\n",
       "0                             4.09     23086.800503  1.059034e+06   \n",
       "1                             3.09     40173.072174  1.505891e+06   \n",
       "2                             5.13     36882.159400  1.058988e+06   \n",
       "3                             3.26     34310.242831  1.260617e+06   \n",
       "4                             4.23     26354.109472  6.309435e+05   \n",
       "...                            ...              ...           ...   \n",
       "4995                          3.46     22837.361035  1.060194e+06   \n",
       "4996                          4.02     25616.115489  1.482618e+06   \n",
       "4997                          2.13     33266.145490  1.030730e+06   \n",
       "4998                          5.44     42625.620156  1.198657e+06   \n",
       "4999                          4.07     46501.283803  1.298950e+06   \n",
       "\n",
       "                                                Address  \n",
       "0     208 Michael Ferry Apt. 674\\nLaurabury, NE 3701...  \n",
       "1     188 Johnson Views Suite 079\\nLake Kathleen, CA...  \n",
       "2     9127 Elizabeth Stravenue\\nDanieltown, WI 06482...  \n",
       "3                             USS Barnett\\nFPO AP 44820  \n",
       "4                            USNS Raymond\\nFPO AE 09386  \n",
       "...                                                 ...  \n",
       "4995                   USNS Williams\\nFPO AP 30153-7653  \n",
       "4996              PSC 9258, Box 8489\\nAPO AA 42991-3352  \n",
       "4997  4215 Tracy Garden Suite 076\\nJoshualand, VA 01...  \n",
       "4998                          USS Wallace\\nFPO AE 73316  \n",
       "4999  37778 George Ridges Apt. 509\\nEast Holly, NV 2...  \n",
       "\n",
       "[5000 rows x 7 columns]>"
      ]
     },
     "execution_count": 8,
     "metadata": {},
     "output_type": "execute_result"
    }
   ],
   "source": [
    "df.info"
   ]
  },
  {
   "cell_type": "code",
   "execution_count": 9,
   "metadata": {},
   "outputs": [
    {
     "name": "stdout",
     "output_type": "stream",
     "text": [
      "<class 'pandas.core.frame.DataFrame'>\n",
      "RangeIndex: 5000 entries, 0 to 4999\n",
      "Data columns (total 7 columns):\n",
      " #   Column                        Non-Null Count  Dtype  \n",
      "---  ------                        --------------  -----  \n",
      " 0   Avg. Area Income              5000 non-null   float64\n",
      " 1   Avg. Area House Age           5000 non-null   float64\n",
      " 2   Avg. Area Number of Rooms     5000 non-null   float64\n",
      " 3   Avg. Area Number of Bedrooms  5000 non-null   float64\n",
      " 4   Area Population               5000 non-null   float64\n",
      " 5   Price                         5000 non-null   float64\n",
      " 6   Address                       5000 non-null   object \n",
      "dtypes: float64(6), object(1)\n",
      "memory usage: 273.6+ KB\n"
     ]
    }
   ],
   "source": [
    "df.info()"
   ]
  },
  {
   "cell_type": "markdown",
   "metadata": {},
   "source": [
    "## See base statistics of each variable"
   ]
  },
  {
   "cell_type": "code",
   "execution_count": 10,
   "metadata": {},
   "outputs": [
    {
     "data": {
      "text/plain": [
       "<bound method NDFrame.describe of       Avg. Area Income  Avg. Area House Age  Avg. Area Number of Rooms  \\\n",
       "0         79545.458574             5.682861                   7.009188   \n",
       "1         79248.642455             6.002900                   6.730821   \n",
       "2         61287.067179             5.865890                   8.512727   \n",
       "3         63345.240046             7.188236                   5.586729   \n",
       "4         59982.197226             5.040555                   7.839388   \n",
       "...                ...                  ...                        ...   \n",
       "4995      60567.944140             7.830362                   6.137356   \n",
       "4996      78491.275435             6.999135                   6.576763   \n",
       "4997      63390.686886             7.250591                   4.805081   \n",
       "4998      68001.331235             5.534388                   7.130144   \n",
       "4999      65510.581804             5.992305                   6.792336   \n",
       "\n",
       "      Avg. Area Number of Bedrooms  Area Population         Price  \\\n",
       "0                             4.09     23086.800503  1.059034e+06   \n",
       "1                             3.09     40173.072174  1.505891e+06   \n",
       "2                             5.13     36882.159400  1.058988e+06   \n",
       "3                             3.26     34310.242831  1.260617e+06   \n",
       "4                             4.23     26354.109472  6.309435e+05   \n",
       "...                            ...              ...           ...   \n",
       "4995                          3.46     22837.361035  1.060194e+06   \n",
       "4996                          4.02     25616.115489  1.482618e+06   \n",
       "4997                          2.13     33266.145490  1.030730e+06   \n",
       "4998                          5.44     42625.620156  1.198657e+06   \n",
       "4999                          4.07     46501.283803  1.298950e+06   \n",
       "\n",
       "                                                Address  \n",
       "0     208 Michael Ferry Apt. 674\\nLaurabury, NE 3701...  \n",
       "1     188 Johnson Views Suite 079\\nLake Kathleen, CA...  \n",
       "2     9127 Elizabeth Stravenue\\nDanieltown, WI 06482...  \n",
       "3                             USS Barnett\\nFPO AP 44820  \n",
       "4                            USNS Raymond\\nFPO AE 09386  \n",
       "...                                                 ...  \n",
       "4995                   USNS Williams\\nFPO AP 30153-7653  \n",
       "4996              PSC 9258, Box 8489\\nAPO AA 42991-3352  \n",
       "4997  4215 Tracy Garden Suite 076\\nJoshualand, VA 01...  \n",
       "4998                          USS Wallace\\nFPO AE 73316  \n",
       "4999  37778 George Ridges Apt. 509\\nEast Holly, NV 2...  \n",
       "\n",
       "[5000 rows x 7 columns]>"
      ]
     },
     "execution_count": 10,
     "metadata": {},
     "output_type": "execute_result"
    }
   ],
   "source": [
    "df.describe # without brackets format is not in proper way"
   ]
  },
  {
   "cell_type": "code",
   "execution_count": 11,
   "metadata": {},
   "outputs": [
    {
     "data": {
      "text/html": [
       "<div>\n",
       "<style scoped>\n",
       "    .dataframe tbody tr th:only-of-type {\n",
       "        vertical-align: middle;\n",
       "    }\n",
       "\n",
       "    .dataframe tbody tr th {\n",
       "        vertical-align: top;\n",
       "    }\n",
       "\n",
       "    .dataframe thead th {\n",
       "        text-align: right;\n",
       "    }\n",
       "</style>\n",
       "<table border=\"1\" class=\"dataframe\">\n",
       "  <thead>\n",
       "    <tr style=\"text-align: right;\">\n",
       "      <th></th>\n",
       "      <th>Avg. Area Income</th>\n",
       "      <th>Avg. Area House Age</th>\n",
       "      <th>Avg. Area Number of Rooms</th>\n",
       "      <th>Avg. Area Number of Bedrooms</th>\n",
       "      <th>Area Population</th>\n",
       "      <th>Price</th>\n",
       "    </tr>\n",
       "  </thead>\n",
       "  <tbody>\n",
       "    <tr>\n",
       "      <th>count</th>\n",
       "      <td>5000.000000</td>\n",
       "      <td>5000.000000</td>\n",
       "      <td>5000.000000</td>\n",
       "      <td>5000.000000</td>\n",
       "      <td>5000.000000</td>\n",
       "      <td>5.000000e+03</td>\n",
       "    </tr>\n",
       "    <tr>\n",
       "      <th>mean</th>\n",
       "      <td>68583.108984</td>\n",
       "      <td>5.977222</td>\n",
       "      <td>6.987792</td>\n",
       "      <td>3.981330</td>\n",
       "      <td>36163.516039</td>\n",
       "      <td>1.232073e+06</td>\n",
       "    </tr>\n",
       "    <tr>\n",
       "      <th>std</th>\n",
       "      <td>10657.991214</td>\n",
       "      <td>0.991456</td>\n",
       "      <td>1.005833</td>\n",
       "      <td>1.234137</td>\n",
       "      <td>9925.650114</td>\n",
       "      <td>3.531176e+05</td>\n",
       "    </tr>\n",
       "    <tr>\n",
       "      <th>min</th>\n",
       "      <td>17796.631190</td>\n",
       "      <td>2.644304</td>\n",
       "      <td>3.236194</td>\n",
       "      <td>2.000000</td>\n",
       "      <td>172.610686</td>\n",
       "      <td>1.593866e+04</td>\n",
       "    </tr>\n",
       "    <tr>\n",
       "      <th>25%</th>\n",
       "      <td>61480.562388</td>\n",
       "      <td>5.322283</td>\n",
       "      <td>6.299250</td>\n",
       "      <td>3.140000</td>\n",
       "      <td>29403.928702</td>\n",
       "      <td>9.975771e+05</td>\n",
       "    </tr>\n",
       "    <tr>\n",
       "      <th>50%</th>\n",
       "      <td>68804.286404</td>\n",
       "      <td>5.970429</td>\n",
       "      <td>7.002902</td>\n",
       "      <td>4.050000</td>\n",
       "      <td>36199.406689</td>\n",
       "      <td>1.232669e+06</td>\n",
       "    </tr>\n",
       "    <tr>\n",
       "      <th>75%</th>\n",
       "      <td>75783.338666</td>\n",
       "      <td>6.650808</td>\n",
       "      <td>7.665871</td>\n",
       "      <td>4.490000</td>\n",
       "      <td>42861.290769</td>\n",
       "      <td>1.471210e+06</td>\n",
       "    </tr>\n",
       "    <tr>\n",
       "      <th>max</th>\n",
       "      <td>107701.748378</td>\n",
       "      <td>9.519088</td>\n",
       "      <td>10.759588</td>\n",
       "      <td>6.500000</td>\n",
       "      <td>69621.713378</td>\n",
       "      <td>2.469066e+06</td>\n",
       "    </tr>\n",
       "  </tbody>\n",
       "</table>\n",
       "</div>"
      ],
      "text/plain": [
       "       Avg. Area Income  Avg. Area House Age  Avg. Area Number of Rooms  \\\n",
       "count       5000.000000          5000.000000                5000.000000   \n",
       "mean       68583.108984             5.977222                   6.987792   \n",
       "std        10657.991214             0.991456                   1.005833   \n",
       "min        17796.631190             2.644304                   3.236194   \n",
       "25%        61480.562388             5.322283                   6.299250   \n",
       "50%        68804.286404             5.970429                   7.002902   \n",
       "75%        75783.338666             6.650808                   7.665871   \n",
       "max       107701.748378             9.519088                  10.759588   \n",
       "\n",
       "       Avg. Area Number of Bedrooms  Area Population         Price  \n",
       "count                   5000.000000      5000.000000  5.000000e+03  \n",
       "mean                       3.981330     36163.516039  1.232073e+06  \n",
       "std                        1.234137      9925.650114  3.531176e+05  \n",
       "min                        2.000000       172.610686  1.593866e+04  \n",
       "25%                        3.140000     29403.928702  9.975771e+05  \n",
       "50%                        4.050000     36199.406689  1.232669e+06  \n",
       "75%                        4.490000     42861.290769  1.471210e+06  \n",
       "max                        6.500000     69621.713378  2.469066e+06  "
      ]
     },
     "execution_count": 11,
     "metadata": {},
     "output_type": "execute_result"
    }
   ],
   "source": [
    "df.describe()"
   ]
  },
  {
   "cell_type": "markdown",
   "metadata": {},
   "source": [
    "## Get all the variable names\n"
   ]
  },
  {
   "cell_type": "code",
   "execution_count": 12,
   "metadata": {},
   "outputs": [],
   "source": [
    "# df.columns()"
   ]
  },
  {
   "cell_type": "code",
   "execution_count": 13,
   "metadata": {},
   "outputs": [
    {
     "data": {
      "text/plain": [
       "Index(['Avg. Area Income', 'Avg. Area House Age', 'Avg. Area Number of Rooms',\n",
       "       'Avg. Area Number of Bedrooms', 'Area Population', 'Price', 'Address'],\n",
       "      dtype='object')"
      ]
     },
     "execution_count": 13,
     "metadata": {},
     "output_type": "execute_result"
    }
   ],
   "source": [
    "df.columns"
   ]
  },
  {
   "cell_type": "markdown",
   "metadata": {},
   "source": [
    "## Training a Model"
   ]
  },
  {
   "cell_type": "markdown",
   "metadata": {},
   "source": [
    "### Separate Input and Output Variables ( X and y arrays )"
   ]
  },
  {
   "cell_type": "code",
   "execution_count": 29,
   "metadata": {},
   "outputs": [],
   "source": [
    "X = df[['Avg. Area Income', 'Avg. Area House Age', 'Avg. Area Number of Rooms',\n",
    "       'Avg. Area Number of Bedrooms', 'Area Population']] # 'Address'"
   ]
  },
  {
   "cell_type": "code",
   "execution_count": 30,
   "metadata": {},
   "outputs": [],
   "source": [
    "y = df['Price']"
   ]
  },
  {
   "cell_type": "markdown",
   "metadata": {},
   "source": [
    "## Train Test Split"
   ]
  },
  {
   "cell_type": "code",
   "execution_count": 31,
   "metadata": {},
   "outputs": [],
   "source": [
    "from sklearn.model_selection import train_test_split"
   ]
  },
  {
   "cell_type": "code",
   "execution_count": 32,
   "metadata": {},
   "outputs": [
    {
     "data": {
      "text/plain": [
       "(5000, 5)"
      ]
     },
     "execution_count": 32,
     "metadata": {},
     "output_type": "execute_result"
    }
   ],
   "source": [
    "X.shape"
   ]
  },
  {
   "cell_type": "code",
   "execution_count": 33,
   "metadata": {},
   "outputs": [
    {
     "data": {
      "text/plain": [
       "(5000,)"
      ]
     },
     "execution_count": 33,
     "metadata": {},
     "output_type": "execute_result"
    }
   ],
   "source": [
    "y.shape"
   ]
  },
  {
   "cell_type": "code",
   "execution_count": 34,
   "metadata": {},
   "outputs": [],
   "source": [
    "X_train, X_test, y_train, y_test = train_test_split(X, y, test_size=0.2, random_state=101) # train : 80% and test: 20%"
   ]
  },
  {
   "cell_type": "code",
   "execution_count": 35,
   "metadata": {},
   "outputs": [
    {
     "data": {
      "text/plain": [
       "(4000, 5)"
      ]
     },
     "execution_count": 35,
     "metadata": {},
     "output_type": "execute_result"
    }
   ],
   "source": [
    "X_train.shape"
   ]
  },
  {
   "cell_type": "code",
   "execution_count": 36,
   "metadata": {},
   "outputs": [
    {
     "data": {
      "text/plain": [
       "(4000,)"
      ]
     },
     "execution_count": 36,
     "metadata": {},
     "output_type": "execute_result"
    }
   ],
   "source": [
    "y_train.shape"
   ]
  },
  {
   "cell_type": "code",
   "execution_count": 37,
   "metadata": {},
   "outputs": [
    {
     "data": {
      "text/plain": [
       "(1000, 5)"
      ]
     },
     "execution_count": 37,
     "metadata": {},
     "output_type": "execute_result"
    }
   ],
   "source": [
    "X_test.shape"
   ]
  },
  {
   "cell_type": "code",
   "execution_count": 38,
   "metadata": {},
   "outputs": [
    {
     "data": {
      "text/plain": [
       "(1000,)"
      ]
     },
     "execution_count": 38,
     "metadata": {},
     "output_type": "execute_result"
    }
   ],
   "source": [
    "y_test.shape"
   ]
  },
  {
   "cell_type": "code",
   "execution_count": null,
   "metadata": {},
   "outputs": [],
   "source": []
  },
  {
   "cell_type": "markdown",
   "metadata": {},
   "source": [
    "## Creating and Training the Model"
   ]
  },
  {
   "cell_type": "code",
   "execution_count": 39,
   "metadata": {},
   "outputs": [],
   "source": [
    "from sklearn.linear_model import LinearRegression"
   ]
  },
  {
   "cell_type": "code",
   "execution_count": 40,
   "metadata": {},
   "outputs": [],
   "source": [
    "lr = LinearRegression()"
   ]
  },
  {
   "cell_type": "code",
   "execution_count": 41,
   "metadata": {},
   "outputs": [
    {
     "data": {
      "text/plain": [
       "LinearRegression()"
      ]
     },
     "execution_count": 41,
     "metadata": {},
     "output_type": "execute_result"
    }
   ],
   "source": [
    "lr.fit(X_train,y_train)"
   ]
  },
  {
   "cell_type": "markdown",
   "metadata": {},
   "source": [
    "## Model Evaluation"
   ]
  },
  {
   "cell_type": "code",
   "execution_count": 42,
   "metadata": {},
   "outputs": [
    {
     "name": "stdout",
     "output_type": "stream",
     "text": [
      "-2640441.39978141\n"
     ]
    }
   ],
   "source": [
    "# print the intercept\n",
    "print(lr.intercept_) # B0"
   ]
  },
  {
   "cell_type": "code",
   "execution_count": 43,
   "metadata": {},
   "outputs": [
    {
     "data": {
      "text/html": [
       "<div>\n",
       "<style scoped>\n",
       "    .dataframe tbody tr th:only-of-type {\n",
       "        vertical-align: middle;\n",
       "    }\n",
       "\n",
       "    .dataframe tbody tr th {\n",
       "        vertical-align: top;\n",
       "    }\n",
       "\n",
       "    .dataframe thead th {\n",
       "        text-align: right;\n",
       "    }\n",
       "</style>\n",
       "<table border=\"1\" class=\"dataframe\">\n",
       "  <thead>\n",
       "    <tr style=\"text-align: right;\">\n",
       "      <th></th>\n",
       "      <th>Coefficient</th>\n",
       "    </tr>\n",
       "  </thead>\n",
       "  <tbody>\n",
       "    <tr>\n",
       "      <th>Avg. Area Income</th>\n",
       "      <td>21.566696</td>\n",
       "    </tr>\n",
       "    <tr>\n",
       "      <th>Avg. Area House Age</th>\n",
       "      <td>165453.042478</td>\n",
       "    </tr>\n",
       "    <tr>\n",
       "      <th>Avg. Area Number of Rooms</th>\n",
       "      <td>120499.839093</td>\n",
       "    </tr>\n",
       "    <tr>\n",
       "      <th>Avg. Area Number of Bedrooms</th>\n",
       "      <td>1999.785336</td>\n",
       "    </tr>\n",
       "    <tr>\n",
       "      <th>Area Population</th>\n",
       "      <td>15.340604</td>\n",
       "    </tr>\n",
       "  </tbody>\n",
       "</table>\n",
       "</div>"
      ],
      "text/plain": [
       "                                Coefficient\n",
       "Avg. Area Income                  21.566696\n",
       "Avg. Area House Age           165453.042478\n",
       "Avg. Area Number of Rooms     120499.839093\n",
       "Avg. Area Number of Bedrooms    1999.785336\n",
       "Area Population                   15.340604"
      ]
     },
     "execution_count": 43,
     "metadata": {},
     "output_type": "execute_result"
    }
   ],
   "source": [
    "coeff_df = pandas.DataFrame(lr.coef_,X.columns,columns=['Coefficient'])\n",
    "coeff_df"
   ]
  },
  {
   "cell_type": "markdown",
   "metadata": {},
   "source": [
    "## Make Predictions on test data"
   ]
  },
  {
   "cell_type": "code",
   "execution_count": 44,
   "metadata": {},
   "outputs": [],
   "source": [
    "predictions = lr.predict(X_test)"
   ]
  },
  {
   "cell_type": "code",
   "execution_count": 45,
   "metadata": {},
   "outputs": [
    {
     "data": {
      "text/plain": [
       "array([1257919.729097  ,  822112.41884197, 1740669.05865495,\n",
       "        972452.12917494,  993422.26329315,  644126.07414456,\n",
       "       1073911.79101682,  856584.00194133, 1445318.25518365,\n",
       "       1204342.19071175, 1455792.46212863, 1298556.65696433,\n",
       "       1735924.33836095, 1336925.77577789, 1387637.43231922,\n",
       "       1222403.77772069,  613786.28691982,  963933.54416267,\n",
       "       1221197.33050139, 1198071.57563599,  505861.89531672,\n",
       "       1769106.54723353, 1853881.1684251 , 1200369.50507868,\n",
       "       1065129.1285072 , 1812033.73067313, 1768686.47091263,\n",
       "       1439920.83814322, 1387251.99649376, 1541178.3922418 ,\n",
       "        726418.80504279, 1754497.60908687, 1462185.72653199,\n",
       "       1025600.16081144, 1284926.86851549,  917454.59590852,\n",
       "       1187046.94956867,  999330.91117488, 1329536.63409596,\n",
       "        782191.60441437, 1393272.03053842,  578216.8839485 ,\n",
       "        822643.37151046, 1895533.11413226, 1672019.8489204 ,\n",
       "        966926.45434584, 1129674.55638146,  792797.75914662,\n",
       "       1161057.18412143, 1472396.71417163, 1457656.70412313,\n",
       "       1162939.33422901, 1099453.68110991, 1358107.44619413,\n",
       "        841103.70380593,  986322.30573616, 1123323.53002133,\n",
       "       1253538.63235181, 1428279.66304075,  499103.20906178,\n",
       "       1462817.08350572, 1108744.36856804,  660588.51700888,\n",
       "       1247031.59801316, 1342744.55515752, 1357505.99080656,\n",
       "        818858.41205464, 1487168.7491193 , 1396247.65598611,\n",
       "        885078.37963982,  857545.83060843, 1212816.4510084 ,\n",
       "       1101069.27148303, 1834591.82895367,  924022.96601965,\n",
       "        855346.80844459,  822070.44924512, 1397829.21230581,\n",
       "        775933.8643152 , 1638075.3740563 , 1079223.32119183,\n",
       "       1355542.10150296, 1321447.90227178, 1198773.49593884,\n",
       "        757960.00844906,  649708.59768215, 1058567.42526767,\n",
       "       1384318.81434923, 1030349.32788272, 1297790.45656827,\n",
       "        550588.2150921 , 1706268.87594955,  840478.99085964,\n",
       "       1627285.73221856, 1051446.08561745,  947163.26591116,\n",
       "       1187965.14618702, 1556566.48908009,  900538.67981881,\n",
       "        995246.18312523, 1221693.84495788, 1592557.49052096,\n",
       "        977671.97252197, 1428171.20086121, 1015834.61615161,\n",
       "       1448110.17850638,  877865.27098758,  831194.85890213,\n",
       "       1022735.97232827, 1844169.94971864, 1925418.90852406,\n",
       "       1405526.2235022 , 1042730.58532359, 1056912.41311355,\n",
       "       1440167.01805756, 1029466.31854916, 1188198.60368703,\n",
       "       1407875.62844788, 1266581.80632292, 1562660.40296843,\n",
       "        767006.37537442, 1394809.1474023 , 2083454.34315169,\n",
       "       1468363.78038257, 1326116.16921441, 1314342.13126912,\n",
       "        920802.61547049,  780407.5175075 , 1678929.25641697,\n",
       "       1173317.53334909,  863938.93280979,  831496.26628412,\n",
       "       1552893.3350871 ,  814232.28006267,  628932.80758342,\n",
       "       1230219.74082397, 1009051.68059211, 1134177.07317901,\n",
       "       1759135.8009286 , 1185004.78325485,  589995.18477428,\n",
       "       1392467.64100483, 1381608.25483992, 1726383.2023419 ,\n",
       "       1169019.22666496, 1019912.31831202, 1730374.72274501,\n",
       "       1094660.75381921, 1641553.67845519, 1425844.82715515,\n",
       "       1372526.00488651,  957370.57751743, 1758571.00815348,\n",
       "       1215039.09536614, 1228730.36130002,  949454.36633531,\n",
       "       1240479.54491375, 1259976.01494439, 1275292.19649843,\n",
       "       1125707.61597875, 1513693.61294973, 1559271.12556507,\n",
       "        798393.94186589, 1546245.51538455, 1278490.24324258,\n",
       "       1048130.23839099, 1258823.84340799, 1647111.76109968,\n",
       "       1110683.6841632 ,  474642.39148037, 1647293.82576375,\n",
       "       1314423.54403662, 1667425.25325173, 1673875.47188459,\n",
       "       1691912.07367635, 1809235.34507849, 1557560.55120789,\n",
       "        872642.52777441, 1383629.88700025, 1588489.6711868 ,\n",
       "       1394366.66112741, 1126784.35366252, 1453577.32336133,\n",
       "        891270.72483828,  929092.04974816, 1124619.49617813,\n",
       "       1189423.55209047, 1093519.52228546, 1352603.44998751,\n",
       "       1104585.87337574, 1041445.01140684, 1840823.20915413,\n",
       "       1269025.97772558, 1195900.79478607, 1982501.87427729,\n",
       "       1172318.99196702,  664063.71770281, 1516831.57884726,\n",
       "       1208883.11787161, 1122128.21428224, 1735594.69613154,\n",
       "        865742.02321863,  969966.3835537 , 1331559.38783137,\n",
       "        909257.90044049, 1330515.26483805, 1267149.95713822,\n",
       "        971617.92004141, 1240075.55463064, 1990811.03720136,\n",
       "       1502950.35445567, 1142677.03057217, 1889344.61144089,\n",
       "       1542683.11071993, 1255495.76569687, 1266858.02867607,\n",
       "       1336567.39146565,  250802.81939455, 1128344.2599786 ,\n",
       "       1251829.92396527, 1365458.36530684, 1731381.40176637,\n",
       "       1048930.57357235, 1054510.18009108, 1426952.23586587,\n",
       "        930090.24788653,  866136.48384223, 1648292.85950441,\n",
       "       1183126.48975361, 1342085.93169395,  818757.06161575,\n",
       "       1563303.58722224, 1348611.35759588, 1815034.40114857,\n",
       "       1260025.43364774, 1220361.24580727,  648792.09698541,\n",
       "       1331385.0939024 ,  393964.58716725, 1283083.66082949,\n",
       "       1354368.39181221, 1594675.47475903, 1019367.99761248,\n",
       "       1154895.92538237, 1477596.50350932, 1606153.12418652,\n",
       "       1336855.88411859, 1787639.82065235, 1798694.76607084,\n",
       "        945560.93733933, 1240280.37820926, 1131796.8979187 ,\n",
       "       1506418.64098809, 1172398.89664799, 1575031.41932382,\n",
       "       1620022.75906772,  328146.62358474,  423405.29747082,\n",
       "        808473.31516009, 1808607.71767717, 1161437.6335028 ,\n",
       "       1290105.28066272,  488495.93102174, 1355523.83914854,\n",
       "       1791747.74473713,  530190.75975258,  895829.94850127,\n",
       "       1234872.22552441, 1205813.61309885, 1142869.05130465,\n",
       "       1544709.4939468 , 1397728.97367435,  809314.75267992,\n",
       "        916515.54081249, 1717159.66171621, 1071915.80625236,\n",
       "       1265594.03975674, 1563516.24575787, 1150899.12933388,\n",
       "       1087806.8072089 , 1723353.35034214, 1401272.11235719,\n",
       "       1097379.04885338, 1642119.10859682, 1062758.32253008,\n",
       "       1729910.73155038, 1038760.9997124 , 1360748.10902365,\n",
       "       1345562.75881699, 1331901.19961839, 1002669.41036227,\n",
       "       1344417.49481132, 1130066.69205506, 1559820.77379468,\n",
       "       1706430.10202814, 2038885.49719397,  833086.74048144,\n",
       "       1045214.81139647, 1134207.36502681,  935557.86261198,\n",
       "       1372030.49915441,  815056.03547679, 1247496.29555843,\n",
       "       1363128.23823988, 1496484.74422308, 2229545.19220178,\n",
       "        777432.2137459 , 1191745.78488591, 1096163.09011392,\n",
       "       1272909.82942115, 1625931.48842005,  918993.98721317,\n",
       "       1006465.36876058, 1594755.76588652,  846284.31587657,\n",
       "        849305.27099748,  570666.9766973 , 1801007.09806189,\n",
       "       1485857.7010122 , 1686344.68445166, 1231934.75994847,\n",
       "       1356156.40905842, 1097791.78972485, 1193394.13367234,\n",
       "       1126904.82603302, 1084596.34251132, 1044677.128424  ,\n",
       "       2012287.09940269,  749703.83822341, 1125570.87522045,\n",
       "       1353902.8066288 , 1582337.54477098, 1132363.84344701,\n",
       "       1127593.01594927, 1558175.09336578, 1470124.64995527,\n",
       "       1170136.96370427, 1057993.19774256, 1727175.42480496,\n",
       "       1099174.32885364, 1878927.95333322,  953041.98641305,\n",
       "        220148.95728993, 1469299.4012682 , 1351934.36007778,\n",
       "       1965515.79787761,  471073.53784833, 1078285.07736101,\n",
       "       1398197.71162201, 1034751.62141489,  792832.03083202,\n",
       "       1446399.2093051 , 1103988.74382329, 1691306.84800526,\n",
       "       1107502.1209222 , 1078162.52791708, 1708451.3561126 ,\n",
       "       1134799.50112102,  872219.41731097,  871276.63375521,\n",
       "        566610.74806608, 1539564.17473227, 1215068.56129604,\n",
       "       1750435.57551414,  780818.77892038, 1005278.89082742,\n",
       "       1699864.56225465,  613683.19049426, 1238072.22784607,\n",
       "       1590149.31057521, 1332467.65674074, 1110842.05743917,\n",
       "       1279563.18720234,  894290.71453524,  812546.8148645 ,\n",
       "       1551251.04056018, 1359009.91049349, 1253121.43582776,\n",
       "       1229760.03037546, 1499246.99540704,  919454.72722129,\n",
       "       1331679.12723295, 1089870.75329734,  958885.84241772,\n",
       "       1064647.10625584,  941059.19510285,  968260.24774318,\n",
       "       1046073.30643463, 1645969.84910694, 1166194.65703568,\n",
       "       1312898.64523882, 1624075.1183887 , 1122680.60708451,\n",
       "       1293518.53738822, 1362243.66193652, 1044593.86406878,\n",
       "       1045450.3409926 , 1446228.97176105, 1314918.61125719,\n",
       "       1054569.81836384, 1953570.35858135, 1514052.36511509,\n",
       "       1204362.0007214 , 1982821.65391243,  680652.28599644,\n",
       "       1723833.10289121, 1461941.72132162, 1413218.72506781,\n",
       "       1074165.48822053, 1048173.12975262, 1205533.14320529,\n",
       "        997083.01429421, 1087634.17215582,  799234.75302648,\n",
       "        972455.40342001,  801856.53463554,  874552.70140582,\n",
       "       1379123.09013504, 1126134.74113496, 1298148.81659145,\n",
       "       1428161.98519949, 1355123.02342545, 1553045.32879595,\n",
       "       1870468.89055136,  941675.18754438,  710776.75163677,\n",
       "       1590857.45772609, 1458290.81462446,  666201.26424407,\n",
       "       1740887.20683926, 1311991.94997944, 1798637.13769294,\n",
       "        833944.90420259, 1302260.14903337, 1587128.52619347,\n",
       "       1317721.78646458, 1668052.02029737,  936367.43448359,\n",
       "       1700849.45729716, 1165066.71552696, 1555174.98797142,\n",
       "       1203157.19294375, 2182009.99760784, 1050703.04898764,\n",
       "       1085255.43002699,  687418.2413657 , 1225471.31016553,\n",
       "       1236416.18898843, 1234673.47753595,  930443.0490492 ,\n",
       "       1501992.00715114, 1273737.55032504,  950041.90286064,\n",
       "       1222288.62260245, 1196391.39810298, 1126494.323256  ,\n",
       "       1430405.24832768,  654124.88315671,  895637.24071162,\n",
       "        292231.65792553, 1320679.35025207,  805569.98785657,\n",
       "       1233937.60765138, 1104581.67567423,  908260.05005094,\n",
       "       1127651.17125847, 1746143.30165372,  550595.1359136 ,\n",
       "        887562.56379595, 1318241.03673407, 1104224.9478225 ,\n",
       "       1268614.59782285,  773344.86318574, 1279225.19247096,\n",
       "       1409430.68554383, 1438394.94609839, 1242233.55899957,\n",
       "        976371.07650901,  961172.77960728, 1405311.34334235,\n",
       "       1231311.47373034, 1416589.57175405, 1039865.66760669,\n",
       "        405050.76035601, 1831567.93596001,  994168.26437391,\n",
       "       1601760.17451136, 1894119.37065232,  838793.55050794,\n",
       "        942753.23147991, 2020611.40750524,  892650.27370656,\n",
       "       1103392.8971265 , 1856735.83501372, 1374941.3471403 ,\n",
       "       1347030.94183169,  839567.56053582, 1868960.81804403,\n",
       "       1046950.66016824,  837784.75799152, 1243870.52458918,\n",
       "        945414.8784892 , 1003374.52464082, 1290578.27919801,\n",
       "       1173331.32430924, 1522296.87016011, 1104182.96400372,\n",
       "       1284736.34065319,  666922.22096229,  673548.38060283,\n",
       "        839842.87494545, 1485091.87949437, 1758926.10019631,\n",
       "        616983.40087472, 1267547.14699049,  899323.40602057,\n",
       "       1158839.68496783,  754436.13286386, 1150948.88850265,\n",
       "       1255846.0700254 ,  771868.76930346, 1323417.05382824,\n",
       "        929827.54051279, 1067842.89483073, 1110264.9618046 ,\n",
       "       1540579.01469863,  806070.20397109, 1375018.45965384,\n",
       "       1583012.86371861, 1215804.72853409, 1846871.22490026,\n",
       "       1719674.14920755, 1072371.61082949, 1261854.33505625,\n",
       "       1801461.10335271, 1289458.68342155, 1371299.08117234,\n",
       "        983760.5644157 , 1324124.02939088, 1051323.27262372,\n",
       "       1007052.9443188 , 1401321.32709743, 1571085.17286577,\n",
       "       1229001.87119959, 1283186.61191566, 1288554.56408168,\n",
       "       1415412.18859016, 1103447.66939767, 1650111.1559641 ,\n",
       "       1351906.62870447,  806922.81052761, 1101879.75531369,\n",
       "       1087454.15325061, 1407522.12276368, 1458792.37938237,\n",
       "       1472979.40100164, 1430788.15060835, 1233623.36217148,\n",
       "       1870533.17388318, 1257158.33660787, 1600913.12822158,\n",
       "       1356762.37639189, 1319817.63503687, 1236051.9108198 ,\n",
       "       1268181.38595476, 1129570.75163032, 1705669.67477113,\n",
       "       1411102.91700133, 2273540.41800102, 1207547.00425411,\n",
       "        899781.3847036 , 1254140.99658749, 1542438.22564716,\n",
       "        657936.46719117, 1385268.91742449,  878970.16758734,\n",
       "       1109196.43128028, 1353391.17019487, 1696115.98345094,\n",
       "       1413282.72684312, 1827087.79734247, 1120215.626921  ,\n",
       "       1356976.31422318, 1223780.10870815, 1248092.82209771,\n",
       "       1769843.13529577,  949225.39612294, 1477952.65052357,\n",
       "       1255282.59862256,  426003.13583316,  707530.77134158,\n",
       "       1696903.01183508, 1163050.51049259, 1323411.5033268 ,\n",
       "       2075338.18777907, 1574543.41531418, 1817164.81632783,\n",
       "       1027880.42644512,  984572.34397045, 1347495.61247838,\n",
       "       1405652.70637065, 1378100.57654899, 1725502.29330079,\n",
       "       1380099.65837808, 1577843.39344022, 1624768.07507459,\n",
       "        620250.96994802,  678847.62293504, 1255463.63367927,\n",
       "       1493178.26766321, 1251118.57109732, 1531225.73325001,\n",
       "       1038742.17013484,  158813.64470869,  670803.74477209,\n",
       "       1358866.25754788, 1116231.80776673,  825567.42192956,\n",
       "       1205988.87074548, 1163767.67010631, 1795770.41249053,\n",
       "       1037902.14643255, 1066195.46094947, 1082294.6549393 ,\n",
       "       1435062.76289097, 1454466.64232999, 1330792.13240182,\n",
       "       1690582.50968939, 1069251.9487768 ,  808110.53863472,\n",
       "        625553.6464463 ,  919490.05366638, 1353662.25460009,\n",
       "       1184444.42780226, 1539245.2556722 , 1208513.48652764,\n",
       "        837956.30959034, 1659341.88709898, 1392103.22796818,\n",
       "       1589783.52479679, 1262963.45793841, 1511554.88048253,\n",
       "        883619.90417901, 1022564.2478265 , 2053151.68156222,\n",
       "       1324454.22123298, 1339389.73837403,  916369.74594413,\n",
       "       1080360.83870117, 1124354.20250161, 1225725.51762076,\n",
       "       1036709.01383128, 1234858.08609761, 1055632.34784628,\n",
       "       1517840.47571423, 1327306.74681115, 1172875.46526553,\n",
       "        663510.22702193,  994880.08825416,  659636.17716453,\n",
       "       1215833.38654981, 1289298.54249164, 1049066.68537325,\n",
       "       1002058.65544565, 1479008.16442342, 1133499.87344619,\n",
       "       1343292.37992994, 1240281.28609788, 1875671.59202051,\n",
       "       1384525.66937356,  900349.97821838, 1491477.28606211,\n",
       "        291738.12188894, 1146285.9434131 , 1367218.08956032,\n",
       "       1289910.89226899, 1291184.80884028, 1824408.57177525,\n",
       "       1491241.22277732, 1389476.45607065, 1321293.64559164,\n",
       "       1284967.15702986,  846503.99338371, 1311564.60147658,\n",
       "       1451747.22228777, 1884449.22275646, 1289541.93048528,\n",
       "        794205.10442291, 1192680.65890835, 1126098.6856008 ,\n",
       "       1509907.60069687, 1913607.45329345,  829309.12969397,\n",
       "        595859.2894242 , 1582813.3055729 , 1035614.81747862,\n",
       "       1456522.85913441,  925110.32853943, 1095178.12785018,\n",
       "       1245801.01775936, 1464082.99859735, 1554146.77201291,\n",
       "        965107.42154312, 1356373.22425334, 1673565.88692989,\n",
       "       1158338.71531107, 1281278.86098633,  787926.23885863,\n",
       "       1408326.67504604, 1269972.82557244,  440821.15599145,\n",
       "       1191806.26503559,  856260.95454576, 1026274.59180668,\n",
       "        915461.63191208, 1813981.92931032, 1260397.95598961,\n",
       "       1238979.10170183, 1387410.7038801 ,  804543.00233417,\n",
       "       1184273.71677171,  895553.53733314,  666753.31379015,\n",
       "        494113.56401943, 1433820.74136242,  920519.49342551,\n",
       "       1552699.63507721, 1314958.29825851, 1408137.11007596,\n",
       "       1105205.03868601, 1225374.96680509, 1555967.60398297,\n",
       "        764356.87177392, 1209380.67918477, 1307446.0761741 ,\n",
       "       1156888.49949615, 1477617.77388599, 1570107.70957063,\n",
       "        888604.6151734 , 1357192.46882878, 1122559.1071572 ,\n",
       "       1611585.45883429, 1055610.51785009, 1553877.59575491,\n",
       "       1094835.14060777,  925610.91139446, 1443072.82447054,\n",
       "        887534.13744471,  456214.10636657, 1667261.18226071,\n",
       "       1271904.57635986, 1182679.40285231, 1649171.89032534,\n",
       "       1423009.73879234, 1484679.82766679, 1033297.25906527,\n",
       "       1292529.61451446, 1145394.95691419,  978455.62438492,\n",
       "       1249136.06087141, 1127225.37341876,  892653.77412716,\n",
       "       1511054.90056614,  873016.64861265,  776802.43645934,\n",
       "       1039353.56986007, 1315157.4616211 , 1584289.80977679,\n",
       "        987849.39018969, 1368365.93287136, 1100557.38102403,\n",
       "       1365918.94448343,  935645.93243936,  324562.71318829,\n",
       "        882741.43894279, 1276731.80519713, 1198249.83684017,\n",
       "       1049018.28659816,  636396.70371239, 1449632.62265719,\n",
       "       1383995.417274  , 1298088.72377639, 1540539.70367802,\n",
       "       1493896.99889277, 2343746.35475218, 1872235.70486221,\n",
       "       1439963.72939739,  764711.28781409,  800048.08135589,\n",
       "       1913553.84633184,  788172.68793124, 1569240.63551064,\n",
       "       1490513.58848105, 1140794.46978976, 1258627.64263354,\n",
       "        711243.70457631, 1250422.0006058 , 1164795.5837308 ,\n",
       "       1719556.05365748, 1144266.71457957, 1494354.61963914,\n",
       "       1483904.82826235, 1384296.65337772, 2120401.56572418,\n",
       "       1436436.14421377, 1360879.56964684,  948664.59412427,\n",
       "       1531287.09616398,  891575.11288497, 1323714.31616798,\n",
       "        743700.71602049, 1226590.09491137,  990596.20736163,\n",
       "       1233992.23613085, 1418498.89087371, 1538321.56247524,\n",
       "        496671.07127633, 1441826.36086485, 1807086.36903317,\n",
       "       1288631.96182057, 1067396.35435428, 1234051.48903034,\n",
       "       1510931.44172461, 1238596.80367901, 1079587.86267727,\n",
       "       1096446.24680232, 1340780.37376665, 1728349.44751939,\n",
       "       1182885.47597413, 1396880.83572715,  848540.01935767,\n",
       "       1118181.60414618, 1450084.64438066, 2095131.06695888,\n",
       "       1432554.83693381, 1097488.60717877, 1543895.07644596,\n",
       "        589701.16866296, 1632891.15370816, 1462326.34718036,\n",
       "       1251619.86424647, 1215142.06779053,  887591.37509516,\n",
       "       1012091.21646186, 1528992.42455722, 1224454.45215523,\n",
       "       1657636.49616451, 1521618.14196433, 1395801.01427135,\n",
       "       1559056.91331876, 1474320.2159518 , 1266083.75708837,\n",
       "        598008.41675619,  775371.04758187, 1626814.6124692 ,\n",
       "       1184704.01403566, 1378438.85088416, 1999851.71462622,\n",
       "        519552.57086122,  939469.86749699, 1730275.64303092,\n",
       "        787500.26420787, 1266092.51639942, 1334783.79526669,\n",
       "       1311501.65110257,  790924.30378168, 1701593.43687927,\n",
       "       1031290.33368499, 1384964.63414444, 1881154.94357247,\n",
       "       1135281.19135161, 1155858.13118106,  821938.51015299,\n",
       "       1392569.03068382, 1828630.6890108 , 1499599.51634769,\n",
       "       1768913.6591667 , 2140238.41934354, 1312065.46959487,\n",
       "       1297778.5181069 ,  954090.00438522, 1164766.05704706,\n",
       "       1762265.19883865, 1272190.22341176, 1337046.93436166,\n",
       "       1734432.16375049, 1241997.26902784, 1545171.11180706,\n",
       "       1410803.40672302,  842583.16037093, 1410431.15875628,\n",
       "        843468.41686776,  963938.51049702, 1359381.61691094,\n",
       "       1086200.92077179, 1724349.54285902, 1488902.61977152,\n",
       "       1435137.84302695, 2032773.75166519, 1550293.84023722,\n",
       "       1117672.92731722, 1228981.23802783, 1024338.06123587,\n",
       "       1152686.83818179, 1016242.46686364, 1375666.28141414,\n",
       "       1050507.27599654, 1181790.30430948, 1525713.82292138,\n",
       "       1681606.23746156, 1205200.1407165 , 1473170.42751321,\n",
       "       1290698.64726293, 1157017.91864224, 1637827.8814607 ,\n",
       "        591770.21795497, 1900211.94766033, 1461556.14927682,\n",
       "       1338718.53329422, 1365231.39271031,  966650.94972922,\n",
       "       1677602.58059847, 1401419.04822993, 2018052.80955537,\n",
       "       1183950.82427373, 1450992.61747404, 1177265.33458142,\n",
       "        843749.10312846, 1497536.13019634, 1529073.71346475,\n",
       "        558964.87508146, 1261583.2192759 , 1753273.50402694,\n",
       "       1500926.03391635, 1059402.18036569, 1709352.57075341,\n",
       "       1112889.9392433 , 1247534.54359931,  853834.33305601,\n",
       "        706144.92549256, 1070761.99800867, 1659159.91706308,\n",
       "       1062693.4703681 , 1073545.82718399, 1036990.30062324,\n",
       "       1052078.86312731, 1568784.39882064, 1309154.63561278,\n",
       "        858450.71935712,  988956.07442349, 1396520.63086133,\n",
       "       1769711.99813365, 1283298.07540821, 1515402.04421687,\n",
       "       1256935.59508285, 1320333.17632621, 1505221.09859152,\n",
       "       1110347.82733454,  771327.59692894, 1189663.34806262,\n",
       "       1128591.58671394, 1533502.4634133 , 2187616.08323863,\n",
       "       1177106.83506022, 1490349.58869887, 1410251.5440795 ,\n",
       "       1461916.30494554, 1548793.63000759, 2006242.92462351,\n",
       "       1312408.85291948, 1581878.60451192,  631870.52706523,\n",
       "       2015104.50190244, 1056903.78936518, 1547405.20803519,\n",
       "        875505.84365161, 1826751.87241241, 1174567.82091767,\n",
       "        844395.35409811, 1682709.2072599 , 1275129.63095662,\n",
       "       1526887.72765502, 1000089.93827973, 1529941.81041015,\n",
       "        520249.23833003, 1509899.51986588, 1245221.05841925,\n",
       "       1415065.5046379 , 1664533.90291694, 1299536.2446968 ,\n",
       "       1475156.35270561, 1587824.19159121, 1087189.99440689,\n",
       "       1242310.46082559,  932496.32274209, 1457832.98702954,\n",
       "       1327013.30958709, 1365624.93545962, 1065213.12237316,\n",
       "       1097280.88986157])"
      ]
     },
     "execution_count": 45,
     "metadata": {},
     "output_type": "execute_result"
    }
   ],
   "source": [
    "predictions"
   ]
  },
  {
   "attachments": {},
   "cell_type": "markdown",
   "metadata": {},
   "source": [
    "## Find Regression Evaluation Metrics \n",
    "### (Mean Absolute Error,  Mean Squared Error and  Root Mean Squared Error)"
   ]
  },
  {
   "cell_type": "code",
   "execution_count": 46,
   "metadata": {},
   "outputs": [],
   "source": [
    "from sklearn import metrics"
   ]
  },
  {
   "cell_type": "code",
   "execution_count": 47,
   "metadata": {},
   "outputs": [],
   "source": [
    "import numpy"
   ]
  },
  {
   "cell_type": "code",
   "execution_count": 48,
   "metadata": {},
   "outputs": [
    {
     "name": "stdout",
     "output_type": "stream",
     "text": [
      "MAE: 81305.23300085649\n",
      "MSE: 10100187858.864878\n",
      "RMSE: 100499.69083964825\n"
     ]
    }
   ],
   "source": [
    "print('MAE:', metrics.mean_absolute_error(y_test, predictions))\n",
    "print('MSE:', metrics.mean_squared_error(y_test, predictions))\n",
    "print('RMSE:', numpy.sqrt(metrics.mean_squared_error(y_test, predictions)))"
   ]
  },
  {
   "cell_type": "code",
   "execution_count": null,
   "metadata": {},
   "outputs": [],
   "source": []
  },
  {
   "cell_type": "code",
   "execution_count": null,
   "metadata": {},
   "outputs": [],
   "source": []
  }
 ],
 "metadata": {
  "kernelspec": {
   "display_name": "Python 3",
   "language": "python",
   "name": "python3"
  },
  "language_info": {
   "codemirror_mode": {
    "name": "ipython",
    "version": 3
   },
   "file_extension": ".py",
   "mimetype": "text/x-python",
   "name": "python",
   "nbconvert_exporter": "python",
   "pygments_lexer": "ipython3",
   "version": "3.6.12"
  }
 },
 "nbformat": 4,
 "nbformat_minor": 4
}
